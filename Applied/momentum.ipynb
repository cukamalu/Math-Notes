{
 "cells": [
  {
   "attachments": {},
   "cell_type": "markdown",
   "metadata": {},
   "source": [
    "\n",
    "# Basic Physics-ish\n",
    "##### Interactive notes for stuff I learned in my science class, which for some reason is teaching basic physics.\n",
    "\n",
    "------------------------------------"
   ]
  },
  {
   "cell_type": "code",
   "execution_count": null,
   "metadata": {},
   "outputs": [],
   "source": []
  },
  {
   "attachments": {},
   "cell_type": "markdown",
   "metadata": {},
   "source": [
    "## Motion\n",
    "This is also mechanics too"
   ]
  },
  {
   "attachments": {},
   "cell_type": "markdown",
   "metadata": {},
   "source": [
    "\n",
    "**Motion** - Chage in position over time in refeence to a reference point.   \n",
    "\n",
    "**Reference Point(aka inertial reference frame)**  - The frame of reference that stays still and is used to compare to other objects.\n"
   ]
  },
  {
   "cell_type": "code",
   "execution_count": null,
   "metadata": {},
   "outputs": [],
   "source": [
    "# Animation interactive that graphs speed, acceration, and ect."
   ]
  },
  {
   "attachments": {},
   "cell_type": "markdown",
   "metadata": {},
   "source": [
    "**Speed** - The rate at which you're moving.  \n",
    "\n",
    "$$speed = \\dfrac{distance \\ traveled}{time}$$\n",
    "\n",
    "- Is a Scalor\n",
    "- Usally comes in $\\dfrac{km}{hr}$ or $\\dfrac{m}{s}$ \n",
    "\n",
    "\n",
    "**Velocity** - The speed and direction you're traveling\n",
    "\n",
    "- Comes in two forms: angular and linear.\n",
    "    - Linear: Speed and direction of moving position.  \n",
    "    $$velocity = \\dfrac{distance \\ traveled}{time} \\ \\ or \\ \\ v = \\dfrac{\\Delta p}{t}$$ \n",
    "    - Angular: speed and direction of the change in an object's orentatio about an axis.\n",
    "    $$\\omega = \\dfrac{\\theta}{t}$$\n",
    "    \n",
    "    ($\\omega$ is angular velocity in radians per unit time,\n",
    "    $\\theta$ in radians, \n",
    "    t is time)\n",
    "- Is a Vector\n",
    "- Comes in same rates as speed, but has rate of speed ***and*** direction  \n",
    "\n",
    "\n",
    "***Although speed and velocity are sometimes used interchangeably, they are not the same thing.***\n",
    "\n",
    "**Accelereation** - Change in speed/velocity over time  \n",
    "\n",
    "$$ accel = \\dfrac{\\Delta velocity}{time}$$\n",
    "\n",
    "- Can come in either a vector or scalor, depends if we're using velocity or speed, repectily.\n",
    "- Also comes in linear and angular flavors\n",
    "- Units examples are $\\dfrac{km}{hr^2} \\ast$ or $\\dfrac{m}{sec^2} \\ast$ \n",
    "- Depends on change in speed/velocity\n",
    "    - If velocity changes, then there is acceleration\n",
    "    - If velocity/speed is constant, it means that there is no acceleration\n",
    "- Sign depends on if we're speeding up or slowing down\n",
    "    - Speeding up = positive velocity\n",
    "    - Slowing down = negitive velocity  \n",
    "  \n",
    "\n",
    "\n",
    "**Average Speed** - The average rate of speed. It's the total amount of distance over the total elaped time.  \n",
    "\n",
    "$$ Average \\ speed = \\dfrac{Total \\ Distance}{Ellapsed \\ Time} $$\n",
    "\n"
   ]
  },
  {
   "attachments": {},
   "cell_type": "markdown",
   "metadata": {},
   "source": [
    "### Other things:\n",
    "\n",
    "**Vector** - Something that has a direction and magatude.\n",
    "- Represented as an arrow\n",
    "\n",
    "**Scalor** - Just a number amount. \n",
    "- Is your regular number. \n",
    "\n",
    "$\\ast$ - This can be derived from the units of $\\dfrac{velocity}{time}$ with dimentiona anylsis.\n",
    "\n",
    "\n",
    "Here is an example using $\\dfrac{m}{sec^2}$  \n",
    "\n",
    "$$\\cfrac{(\\frac{m}{s})}{s} =\n",
    "\\frac{(\\frac{m}{\\cancel{s}}) \\times \\cancel{s}} {s \\times s} =\n",
    "\\frac{m}{s^2}$$"
   ]
  },
  {
   "attachments": {},
   "cell_type": "markdown",
   "metadata": {},
   "source": [
    " ----------------------------------"
   ]
  },
  {
   "attachments": {},
   "cell_type": "markdown",
   "metadata": {},
   "source": [
    "## Forces "
   ]
  },
  {
   "attachments": {},
   "cell_type": "markdown",
   "metadata": {},
   "source": [
    "**Force** - In simple terms, a push or pull (but it's not just pushing and pulling)  \n",
    "\n",
    "They are represented by force diagrams"
   ]
  },
  {
   "attachments": {},
   "cell_type": "markdown",
   "metadata": {},
   "source": [
    "## Types of forces\n",
    "\n",
    "**Contact Forces** - Forces that are applied while touching  \n",
    "**Non-Contact Forces** - Fores that are applied while not touching\n"
   ]
  },
  {
   "attachments": {},
   "cell_type": "markdown",
   "metadata": {},
   "source": [
    "// c++ sim\n"
   ]
  },
  {
   "attachments": {},
   "cell_type": "markdown",
   "metadata": {},
   "source": [
    "______________________________"
   ]
  },
  {
   "attachments": {},
   "cell_type": "markdown",
   "metadata": {},
   "source": [
    "# Collisions"
   ]
  },
  {
   "attachments": {},
   "cell_type": "markdown",
   "metadata": {},
   "source": [
    "-------------------"
   ]
  },
  {
   "attachments": {},
   "cell_type": "markdown",
   "metadata": {},
   "source": [
    "## Momentum"
   ]
  },
  {
   "cell_type": "markdown",
   "metadata": {},
   "source": []
  },
  {
   "attachments": {},
   "cell_type": "markdown",
   "metadata": {},
   "source": [
    "__________________"
   ]
  },
  {
   "attachments": {},
   "cell_type": "markdown",
   "metadata": {},
   "source": [
    "_____________________"
   ]
  }
 ],
 "metadata": {
  "kernelspec": {
   "display_name": "base",
   "language": "python",
   "name": "python3"
  },
  "language_info": {
   "codemirror_mode": {
    "name": "ipython",
    "version": 3
   },
   "file_extension": ".py",
   "mimetype": "text/x-python",
   "name": "python",
   "nbconvert_exporter": "python",
   "pygments_lexer": "ipython3",
   "version": "3.9.10"
  },
  "orig_nbformat": 4,
  "vscode": {
   "interpreter": {
    "hash": "55e31c4e4f96b3c43367ddd46a98c4f8ab367bfa08c9b39ce4151defbbfc00d5"
   }
  }
 },
 "nbformat": 4,
 "nbformat_minor": 2
}
